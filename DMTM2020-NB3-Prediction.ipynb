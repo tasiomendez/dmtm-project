{
 "cells": [
  {
   "cell_type": "markdown",
   "metadata": {},
   "source": [
    "# Data Mining and Text Mining Challenge 2020\n",
    "\n",
    "__Tasio Mendez Ayerbe__ <br>\n",
    "tasio.mendez (@) mail.polimi.it <br>\n"
   ]
  },
  {
   "cell_type": "markdown",
   "metadata": {},
   "source": [
    "# 3 Prediction\n",
    "\n",
    "In this notebook, the best model found on the [previous one](DMTM2020-NB2-Modeling.ipynb) is built and used to predict the sales of the final test set. At the end, a new submission CSV file will be generated with the date, sku and the prediction.\n",
    "\n",
    "---"
   ]
  },
  {
   "cell_type": "code",
   "execution_count": 1,
   "metadata": {},
   "outputs": [],
   "source": [
    "import matplotlib.pyplot as plt\n",
    "import matplotlib as mpl\n",
    "import numpy as np\n",
    "import seaborn as sns\n",
    "import pandas as pd\n",
    "\n",
    "# select the style from fivethityeight website\n",
    "mpl.rcdefaults() \n",
    "plt.style.use('fivethirtyeight')\n",
    "mpl.rcParams['lines.linewidth'] = 2\n",
    "mpl.rcParams.update({'font.size': 16})\n",
    "\n",
    "%matplotlib inline\n",
    "mpl.rcParams['figure.figsize'] = (18, 16)\n",
    "mpl.rcParams['figure.dpi'] = 80\n",
    "\n",
    "import warnings\n",
    "warnings.filterwarnings('ignore')"
   ]
  },
  {
   "cell_type": "code",
   "execution_count": 2,
   "metadata": {},
   "outputs": [],
   "source": [
    "from datetime import datetime\n",
    "from sklearn.ensemble import RandomForestRegressor\n",
    "from sklearn.metrics import make_scorer\n",
    "from sklearn.model_selection import KFold, cross_val_score\n",
    "from sklearn.preprocessing import OneHotEncoder"
   ]
  },
  {
   "cell_type": "code",
   "execution_count": 3,
   "metadata": {},
   "outputs": [],
   "source": [
    "def mean_absolute_percentage_error(y_true, y_pred): \n",
    "    y_true, y_pred = np.array(y_true), np.array(y_pred)\n",
    "    return np.mean(np.abs((y_true - y_pred) / y_true)) * 100"
   ]
  },
  {
   "cell_type": "code",
   "execution_count": 4,
   "metadata": {},
   "outputs": [],
   "source": [
    "# Cross-validation 10-fold\n",
    "cv = KFold(n_splits=10, random_state=42, shuffle=True)\n",
    "\n",
    "# MAPE function scorer\n",
    "scorer = make_scorer(mean_absolute_percentage_error, greater_is_better=False)"
   ]
  },
  {
   "cell_type": "markdown",
   "metadata": {},
   "source": [
    "As we need to compute lags over the data series, we are going to join both dataframes, the train dataframe and the test one. Thus, we can compute the lags over the test data. We should take into account that the test data starts from 2019-06-22."
   ]
  },
  {
   "cell_type": "code",
   "execution_count": 5,
   "metadata": {},
   "outputs": [
    {
     "name": "stdout",
     "output_type": "stream",
     "text": [
      "DataFrame shape (samples x features): (6019 x 11)\n"
     ]
    },
    {
     "data": {
      "text/html": [
       "<div>\n",
       "<style scoped>\n",
       "    .dataframe tbody tr th:only-of-type {\n",
       "        vertical-align: middle;\n",
       "    }\n",
       "\n",
       "    .dataframe tbody tr th {\n",
       "        vertical-align: top;\n",
       "    }\n",
       "\n",
       "    .dataframe thead th {\n",
       "        text-align: right;\n",
       "    }\n",
       "</style>\n",
       "<table border=\"1\" class=\"dataframe\">\n",
       "  <thead>\n",
       "    <tr style=\"text-align: right;\">\n",
       "      <th></th>\n",
       "      <th>date</th>\n",
       "      <th>sku</th>\n",
       "      <th>pack</th>\n",
       "      <th>size (GM)</th>\n",
       "      <th>brand</th>\n",
       "      <th>price</th>\n",
       "      <th>POS_exposed w-1</th>\n",
       "      <th>volume_on_promo w-1</th>\n",
       "      <th>sales w-1</th>\n",
       "      <th>scope</th>\n",
       "      <th>target</th>\n",
       "    </tr>\n",
       "  </thead>\n",
       "  <tbody>\n",
       "    <tr>\n",
       "      <th>295</th>\n",
       "      <td>2019-11-16</td>\n",
       "      <td>1206</td>\n",
       "      <td>SINGLE</td>\n",
       "      <td>125.65</td>\n",
       "      <td>BRAND4</td>\n",
       "      <td>0.41</td>\n",
       "      <td>19.0</td>\n",
       "      <td>98.800841</td>\n",
       "      <td>111353.0</td>\n",
       "      <td>1</td>\n",
       "      <td>NaN</td>\n",
       "    </tr>\n",
       "    <tr>\n",
       "      <th>296</th>\n",
       "      <td>2019-11-23</td>\n",
       "      <td>1206</td>\n",
       "      <td>SINGLE</td>\n",
       "      <td>125.65</td>\n",
       "      <td>BRAND4</td>\n",
       "      <td>0.57</td>\n",
       "      <td>2.0</td>\n",
       "      <td>99.129248</td>\n",
       "      <td>63359.0</td>\n",
       "      <td>1</td>\n",
       "      <td>NaN</td>\n",
       "    </tr>\n",
       "    <tr>\n",
       "      <th>297</th>\n",
       "      <td>2019-11-30</td>\n",
       "      <td>1206</td>\n",
       "      <td>SINGLE</td>\n",
       "      <td>125.65</td>\n",
       "      <td>BRAND4</td>\n",
       "      <td>0.57</td>\n",
       "      <td>0.0</td>\n",
       "      <td>28.696578</td>\n",
       "      <td>35238.0</td>\n",
       "      <td>1</td>\n",
       "      <td>NaN</td>\n",
       "    </tr>\n",
       "    <tr>\n",
       "      <th>298</th>\n",
       "      <td>2019-12-07</td>\n",
       "      <td>1206</td>\n",
       "      <td>SINGLE</td>\n",
       "      <td>125.65</td>\n",
       "      <td>BRAND4</td>\n",
       "      <td>0.56</td>\n",
       "      <td>2.0</td>\n",
       "      <td>18.972899</td>\n",
       "      <td>34242.0</td>\n",
       "      <td>1</td>\n",
       "      <td>NaN</td>\n",
       "    </tr>\n",
       "    <tr>\n",
       "      <th>299</th>\n",
       "      <td>2019-12-14</td>\n",
       "      <td>1206</td>\n",
       "      <td>SINGLE</td>\n",
       "      <td>125.65</td>\n",
       "      <td>BRAND4</td>\n",
       "      <td>0.56</td>\n",
       "      <td>6.0</td>\n",
       "      <td>29.153580</td>\n",
       "      <td>37889.0</td>\n",
       "      <td>1</td>\n",
       "      <td>NaN</td>\n",
       "    </tr>\n",
       "  </tbody>\n",
       "</table>\n",
       "</div>"
      ],
      "text/plain": [
       "          date   sku    pack  size (GM)   brand  price  POS_exposed w-1  \\\n",
       "295 2019-11-16  1206  SINGLE     125.65  BRAND4   0.41             19.0   \n",
       "296 2019-11-23  1206  SINGLE     125.65  BRAND4   0.57              2.0   \n",
       "297 2019-11-30  1206  SINGLE     125.65  BRAND4   0.57              0.0   \n",
       "298 2019-12-07  1206  SINGLE     125.65  BRAND4   0.56              2.0   \n",
       "299 2019-12-14  1206  SINGLE     125.65  BRAND4   0.56              6.0   \n",
       "\n",
       "     volume_on_promo w-1  sales w-1  scope  target  \n",
       "295            98.800841   111353.0      1     NaN  \n",
       "296            99.129248    63359.0      1     NaN  \n",
       "297            28.696578    35238.0      1     NaN  \n",
       "298            18.972899    34242.0      1     NaN  \n",
       "299            29.153580    37889.0      1     NaN  "
      ]
     },
     "execution_count": 5,
     "metadata": {},
     "output_type": "execute_result"
    }
   ],
   "source": [
    "raw_train = pd.read_csv('./data/train.csv' ).rename(columns={'Unnamed: 0': 'date'})\n",
    "raw_test  = pd.read_csv('./data/x_test.csv').rename(columns={'Unnamed: 0': 'date'})\n",
    "\n",
    "raw = pd.concat([raw_train, raw_test])\n",
    "\n",
    "df_original = raw.copy()\n",
    "df_original.date = df_original.date.apply(lambda x: datetime.strptime(x, \"WE %d %B %Y\"))\n",
    "\n",
    "print(\"DataFrame shape (samples x features): ({} x {})\".format(df_original.shape[0], df_original.shape[1]))\n",
    "df_original.tail()"
   ]
  },
  {
   "cell_type": "code",
   "execution_count": 6,
   "metadata": {},
   "outputs": [],
   "source": [
    "def lag_dataframe(df, num_lags):\n",
    "    acc = pd.DataFrame()\n",
    "    for sku in df.sku.unique():\n",
    "        aux = df[df.sku == sku]\n",
    "        for lag in range(1, num_lags):\n",
    "            aux['sales w-{}'.format(lag + 1)] = aux['sales w-1'].shift(lag)\n",
    "        acc = acc.append(aux)\n",
    "\n",
    "    return acc"
   ]
  },
  {
   "cell_type": "code",
   "execution_count": 7,
   "metadata": {},
   "outputs": [
    {
     "name": "stdout",
     "output_type": "stream",
     "text": [
      "DataFrame shape (samples x features): (6019 x 14)\n"
     ]
    },
    {
     "data": {
      "text/html": [
       "<div>\n",
       "<style scoped>\n",
       "    .dataframe tbody tr th:only-of-type {\n",
       "        vertical-align: middle;\n",
       "    }\n",
       "\n",
       "    .dataframe tbody tr th {\n",
       "        vertical-align: top;\n",
       "    }\n",
       "\n",
       "    .dataframe thead th {\n",
       "        text-align: right;\n",
       "    }\n",
       "</style>\n",
       "<table border=\"1\" class=\"dataframe\">\n",
       "  <thead>\n",
       "    <tr style=\"text-align: right;\">\n",
       "      <th></th>\n",
       "      <th>date</th>\n",
       "      <th>sku</th>\n",
       "      <th>pack</th>\n",
       "      <th>size (GM)</th>\n",
       "      <th>brand</th>\n",
       "      <th>price</th>\n",
       "      <th>POS_exposed w-1</th>\n",
       "      <th>volume_on_promo w-1</th>\n",
       "      <th>sales w-1</th>\n",
       "      <th>scope</th>\n",
       "      <th>target</th>\n",
       "      <th>sales w-2</th>\n",
       "      <th>sales w-3</th>\n",
       "      <th>sales w-4</th>\n",
       "    </tr>\n",
       "  </thead>\n",
       "  <tbody>\n",
       "    <tr>\n",
       "      <th>0</th>\n",
       "      <td>2016-12-10</td>\n",
       "      <td>2689</td>\n",
       "      <td>SINGLE</td>\n",
       "      <td>395.41</td>\n",
       "      <td>BRAND1</td>\n",
       "      <td>1.16</td>\n",
       "      <td>NaN</td>\n",
       "      <td>NaN</td>\n",
       "      <td>NaN</td>\n",
       "      <td>0</td>\n",
       "      <td>24175.0</td>\n",
       "      <td>NaN</td>\n",
       "      <td>NaN</td>\n",
       "      <td>NaN</td>\n",
       "    </tr>\n",
       "    <tr>\n",
       "      <th>1</th>\n",
       "      <td>2016-12-17</td>\n",
       "      <td>2689</td>\n",
       "      <td>SINGLE</td>\n",
       "      <td>395.41</td>\n",
       "      <td>BRAND1</td>\n",
       "      <td>1.15</td>\n",
       "      <td>1.0</td>\n",
       "      <td>17.676112</td>\n",
       "      <td>24175.0</td>\n",
       "      <td>0</td>\n",
       "      <td>23521.0</td>\n",
       "      <td>NaN</td>\n",
       "      <td>NaN</td>\n",
       "      <td>NaN</td>\n",
       "    </tr>\n",
       "    <tr>\n",
       "      <th>2</th>\n",
       "      <td>2016-12-24</td>\n",
       "      <td>2689</td>\n",
       "      <td>SINGLE</td>\n",
       "      <td>395.41</td>\n",
       "      <td>BRAND1</td>\n",
       "      <td>1.16</td>\n",
       "      <td>1.0</td>\n",
       "      <td>24.482803</td>\n",
       "      <td>23521.0</td>\n",
       "      <td>0</td>\n",
       "      <td>22075.0</td>\n",
       "      <td>24175.0</td>\n",
       "      <td>NaN</td>\n",
       "      <td>NaN</td>\n",
       "    </tr>\n",
       "    <tr>\n",
       "      <th>3</th>\n",
       "      <td>2016-12-31</td>\n",
       "      <td>2689</td>\n",
       "      <td>SINGLE</td>\n",
       "      <td>395.41</td>\n",
       "      <td>BRAND1</td>\n",
       "      <td>1.16</td>\n",
       "      <td>0.0</td>\n",
       "      <td>19.410646</td>\n",
       "      <td>22075.0</td>\n",
       "      <td>0</td>\n",
       "      <td>16492.0</td>\n",
       "      <td>23521.0</td>\n",
       "      <td>24175.0</td>\n",
       "      <td>NaN</td>\n",
       "    </tr>\n",
       "    <tr>\n",
       "      <th>4</th>\n",
       "      <td>2017-01-07</td>\n",
       "      <td>2689</td>\n",
       "      <td>SINGLE</td>\n",
       "      <td>395.41</td>\n",
       "      <td>BRAND1</td>\n",
       "      <td>1.16</td>\n",
       "      <td>0.0</td>\n",
       "      <td>29.812030</td>\n",
       "      <td>16492.0</td>\n",
       "      <td>0</td>\n",
       "      <td>25971.0</td>\n",
       "      <td>22075.0</td>\n",
       "      <td>23521.0</td>\n",
       "      <td>24175.0</td>\n",
       "    </tr>\n",
       "  </tbody>\n",
       "</table>\n",
       "</div>"
      ],
      "text/plain": [
       "        date   sku    pack  size (GM)   brand  price  POS_exposed w-1  \\\n",
       "0 2016-12-10  2689  SINGLE     395.41  BRAND1   1.16              NaN   \n",
       "1 2016-12-17  2689  SINGLE     395.41  BRAND1   1.15              1.0   \n",
       "2 2016-12-24  2689  SINGLE     395.41  BRAND1   1.16              1.0   \n",
       "3 2016-12-31  2689  SINGLE     395.41  BRAND1   1.16              0.0   \n",
       "4 2017-01-07  2689  SINGLE     395.41  BRAND1   1.16              0.0   \n",
       "\n",
       "   volume_on_promo w-1  sales w-1  scope   target  sales w-2  sales w-3  \\\n",
       "0                  NaN        NaN      0  24175.0        NaN        NaN   \n",
       "1            17.676112    24175.0      0  23521.0        NaN        NaN   \n",
       "2            24.482803    23521.0      0  22075.0    24175.0        NaN   \n",
       "3            19.410646    22075.0      0  16492.0    23521.0    24175.0   \n",
       "4            29.812030    16492.0      0  25971.0    22075.0    23521.0   \n",
       "\n",
       "   sales w-4  \n",
       "0        NaN  \n",
       "1        NaN  \n",
       "2        NaN  \n",
       "3        NaN  \n",
       "4    24175.0  "
      ]
     },
     "execution_count": 7,
     "metadata": {},
     "output_type": "execute_result"
    }
   ],
   "source": [
    "df = lag_dataframe(df_original, 4)\n",
    "\n",
    "print(\"DataFrame shape (samples x features): ({} x {})\".format(df.shape[0], df.shape[1]))\n",
    "df.head()"
   ]
  },
  {
   "cell_type": "code",
   "execution_count": 8,
   "metadata": {
    "scrolled": false
   },
   "outputs": [],
   "source": [
    "encoder = OneHotEncoder()\n",
    "pack_enc = encoder.fit_transform(df[['pack']])\n",
    "\n",
    "df = df.join(pd.DataFrame(pack_enc.toarray(), columns=['pack_multi', 'pack_single']))\n",
    "df = df.drop('pack', axis=1)\n",
    "\n",
    "df = df.set_index('date')\n",
    "df = df[~df['sales w-4'].isna()]"
   ]
  },
  {
   "cell_type": "code",
   "execution_count": 9,
   "metadata": {},
   "outputs": [],
   "source": [
    "no_features = ['sku', 'pack', 'brand', 'scope', 'target']\n",
    "\n",
    "X_train = df['2016':'2019-06-23'][df.columns.difference(no_features)]\n",
    "y_train = df['2016':'2019-06-23'].target\n",
    "\n",
    "X_test = df['2019-06-23':'2020'][df.columns.difference(no_features)]"
   ]
  },
  {
   "cell_type": "code",
   "execution_count": 10,
   "metadata": {},
   "outputs": [],
   "source": [
    "model = RandomForestRegressor(n_estimators=280, random_state=42)"
   ]
  },
  {
   "cell_type": "markdown",
   "metadata": {},
   "source": [
    "Once we have prepared the data, we can build the model and train it with the corresponding features. As it can be noticed, the MAPE error for the model using cross-validation is of <span style=\"border: 1px solid green; padding: 0px 5px; border-radius: 10px; margin: 0px 3px;\"> 9.8910 </span>."
   ]
  },
  {
   "cell_type": "code",
   "execution_count": 11,
   "metadata": {},
   "outputs": [
    {
     "name": "stdout",
     "output_type": "stream",
     "text": [
      "MAPE Random Forest: 9.8910 (+/- 1.6999)\n"
     ]
    }
   ],
   "source": [
    "scores = np.abs(cross_val_score(model, X_train, y_train, cv=cv, scoring=scorer))\n",
    "print(\"MAPE Random Forest: %0.4f (+/- %0.4f)\" % (scores.mean(), scores.std() * 2))"
   ]
  },
  {
   "cell_type": "code",
   "execution_count": 12,
   "metadata": {},
   "outputs": [
    {
     "data": {
      "text/plain": [
       "RandomForestRegressor(bootstrap=True, ccp_alpha=0.0, criterion='mse',\n",
       "                      max_depth=None, max_features='auto', max_leaf_nodes=None,\n",
       "                      max_samples=None, min_impurity_decrease=0.0,\n",
       "                      min_impurity_split=None, min_samples_leaf=1,\n",
       "                      min_samples_split=2, min_weight_fraction_leaf=0.0,\n",
       "                      n_estimators=280, n_jobs=None, oob_score=False,\n",
       "                      random_state=42, verbose=0, warm_start=False)"
      ]
     },
     "execution_count": 12,
     "metadata": {},
     "output_type": "execute_result"
    }
   ],
   "source": [
    "model.fit(X_train, y_train)"
   ]
  },
  {
   "cell_type": "code",
   "execution_count": 13,
   "metadata": {},
   "outputs": [],
   "source": [
    "y_pred = model.predict(df[df.columns.difference(no_features)])"
   ]
  },
  {
   "cell_type": "code",
   "execution_count": 14,
   "metadata": {},
   "outputs": [
    {
     "data": {
      "text/html": [
       "<div>\n",
       "<style scoped>\n",
       "    .dataframe tbody tr th:only-of-type {\n",
       "        vertical-align: middle;\n",
       "    }\n",
       "\n",
       "    .dataframe tbody tr th {\n",
       "        vertical-align: top;\n",
       "    }\n",
       "\n",
       "    .dataframe thead th {\n",
       "        text-align: right;\n",
       "    }\n",
       "</style>\n",
       "<table border=\"1\" class=\"dataframe\">\n",
       "  <thead>\n",
       "    <tr style=\"text-align: right;\">\n",
       "      <th></th>\n",
       "      <th>sku</th>\n",
       "      <th>size (GM)</th>\n",
       "      <th>brand</th>\n",
       "      <th>price</th>\n",
       "      <th>POS_exposed w-1</th>\n",
       "      <th>volume_on_promo w-1</th>\n",
       "      <th>sales w-1</th>\n",
       "      <th>scope</th>\n",
       "      <th>target</th>\n",
       "      <th>sales w-2</th>\n",
       "      <th>sales w-3</th>\n",
       "      <th>sales w-4</th>\n",
       "      <th>pack_multi</th>\n",
       "      <th>pack_single</th>\n",
       "      <th>prediction</th>\n",
       "    </tr>\n",
       "    <tr>\n",
       "      <th>date</th>\n",
       "      <th></th>\n",
       "      <th></th>\n",
       "      <th></th>\n",
       "      <th></th>\n",
       "      <th></th>\n",
       "      <th></th>\n",
       "      <th></th>\n",
       "      <th></th>\n",
       "      <th></th>\n",
       "      <th></th>\n",
       "      <th></th>\n",
       "      <th></th>\n",
       "      <th></th>\n",
       "      <th></th>\n",
       "      <th></th>\n",
       "    </tr>\n",
       "  </thead>\n",
       "  <tbody>\n",
       "    <tr>\n",
       "      <th>2019-06-29</th>\n",
       "      <td>1027</td>\n",
       "      <td>114.23</td>\n",
       "      <td>BRAND2</td>\n",
       "      <td>0.56</td>\n",
       "      <td>10.0</td>\n",
       "      <td>24.386541</td>\n",
       "      <td>66337.0</td>\n",
       "      <td>1</td>\n",
       "      <td>NaN</td>\n",
       "      <td>71405.0</td>\n",
       "      <td>69399.0</td>\n",
       "      <td>58193.0</td>\n",
       "      <td>0.0</td>\n",
       "      <td>1.0</td>\n",
       "      <td>63453</td>\n",
       "    </tr>\n",
       "    <tr>\n",
       "      <th>2019-07-06</th>\n",
       "      <td>1027</td>\n",
       "      <td>114.23</td>\n",
       "      <td>BRAND2</td>\n",
       "      <td>0.55</td>\n",
       "      <td>4.0</td>\n",
       "      <td>37.437842</td>\n",
       "      <td>49992.0</td>\n",
       "      <td>1</td>\n",
       "      <td>NaN</td>\n",
       "      <td>66337.0</td>\n",
       "      <td>71405.0</td>\n",
       "      <td>69399.0</td>\n",
       "      <td>0.0</td>\n",
       "      <td>1.0</td>\n",
       "      <td>55117</td>\n",
       "    </tr>\n",
       "    <tr>\n",
       "      <th>2019-07-13</th>\n",
       "      <td>1027</td>\n",
       "      <td>114.23</td>\n",
       "      <td>BRAND2</td>\n",
       "      <td>0.45</td>\n",
       "      <td>0.0</td>\n",
       "      <td>28.039623</td>\n",
       "      <td>58062.0</td>\n",
       "      <td>1</td>\n",
       "      <td>NaN</td>\n",
       "      <td>49992.0</td>\n",
       "      <td>66337.0</td>\n",
       "      <td>71405.0</td>\n",
       "      <td>0.0</td>\n",
       "      <td>1.0</td>\n",
       "      <td>82907</td>\n",
       "    </tr>\n",
       "    <tr>\n",
       "      <th>2019-07-20</th>\n",
       "      <td>1027</td>\n",
       "      <td>114.23</td>\n",
       "      <td>BRAND2</td>\n",
       "      <td>0.50</td>\n",
       "      <td>19.0</td>\n",
       "      <td>100.000000</td>\n",
       "      <td>90908.0</td>\n",
       "      <td>1</td>\n",
       "      <td>NaN</td>\n",
       "      <td>58062.0</td>\n",
       "      <td>49992.0</td>\n",
       "      <td>66337.0</td>\n",
       "      <td>0.0</td>\n",
       "      <td>1.0</td>\n",
       "      <td>79521</td>\n",
       "    </tr>\n",
       "    <tr>\n",
       "      <th>2017-01-07</th>\n",
       "      <td>2689</td>\n",
       "      <td>395.41</td>\n",
       "      <td>BRAND1</td>\n",
       "      <td>1.16</td>\n",
       "      <td>0.0</td>\n",
       "      <td>29.812030</td>\n",
       "      <td>16492.0</td>\n",
       "      <td>0</td>\n",
       "      <td>25971.0</td>\n",
       "      <td>22075.0</td>\n",
       "      <td>23521.0</td>\n",
       "      <td>24175.0</td>\n",
       "      <td>0.0</td>\n",
       "      <td>1.0</td>\n",
       "      <td>24351</td>\n",
       "    </tr>\n",
       "  </tbody>\n",
       "</table>\n",
       "</div>"
      ],
      "text/plain": [
       "             sku  size (GM)   brand  price  POS_exposed w-1  \\\n",
       "date                                                          \n",
       "2019-06-29  1027     114.23  BRAND2   0.56             10.0   \n",
       "2019-07-06  1027     114.23  BRAND2   0.55              4.0   \n",
       "2019-07-13  1027     114.23  BRAND2   0.45              0.0   \n",
       "2019-07-20  1027     114.23  BRAND2   0.50             19.0   \n",
       "2017-01-07  2689     395.41  BRAND1   1.16              0.0   \n",
       "\n",
       "            volume_on_promo w-1  sales w-1  scope   target  sales w-2  \\\n",
       "date                                                                    \n",
       "2019-06-29            24.386541    66337.0      1      NaN    71405.0   \n",
       "2019-07-06            37.437842    49992.0      1      NaN    66337.0   \n",
       "2019-07-13            28.039623    58062.0      1      NaN    49992.0   \n",
       "2019-07-20           100.000000    90908.0      1      NaN    58062.0   \n",
       "2017-01-07            29.812030    16492.0      0  25971.0    22075.0   \n",
       "\n",
       "            sales w-3  sales w-4  pack_multi  pack_single  prediction  \n",
       "date                                                                   \n",
       "2019-06-29    69399.0    58193.0         0.0          1.0       63453  \n",
       "2019-07-06    71405.0    69399.0         0.0          1.0       55117  \n",
       "2019-07-13    66337.0    71405.0         0.0          1.0       82907  \n",
       "2019-07-20    49992.0    66337.0         0.0          1.0       79521  \n",
       "2017-01-07    23521.0    24175.0         0.0          1.0       24351  "
      ]
     },
     "execution_count": 14,
     "metadata": {},
     "output_type": "execute_result"
    }
   ],
   "source": [
    "df['prediction'] = y_pred\n",
    "df = df.astype({ 'prediction': int })\n",
    "df.head()"
   ]
  },
  {
   "cell_type": "code",
   "execution_count": 15,
   "metadata": {},
   "outputs": [
    {
     "data": {
      "image/png": "[encoded data removed]",
      "text/plain": [
       "<Figure size 1600x400 with 1 Axes>"
      ]
     },
     "metadata": {
      "needs_background": "light"
     },
     "output_type": "display_data"
    }
   ],
   "source": [
    "f, axes = plt.subplots(1, 1, figsize=(20, 5))\n",
    "\n",
    "sns.lineplot(x='date', y='target', data=df[df.sku==1206].reset_index(), ax=axes)\n",
    "axes.lines[0].set_label(\"Target\")\n",
    "sns.lineplot(x='date', y='prediction', data=df[df.sku==1206].reset_index(), ax=axes)\n",
    "axes.lines[1].set_linestyle(\"--\")\n",
    "axes.lines[1].set_label(\"Forecast\")\n",
    "plt.axvline(datetime(2019, 6, 22), c='black', linestyle=':')\n",
    "plt.title('Prediction for SKU 1206')\n",
    "plt.ylabel('Sales')\n",
    "plt.xlabel('')\n",
    "plt.legend()\n",
    "plt.show()"
   ]
  },
  {
   "cell_type": "markdown",
   "metadata": {},
   "source": [
    "In the plot above, we have plotted the sales for a given SKU. We can notice that the blue line are the target sales, data used to train the model, while the red dashed line is the prediction for the given SKU. "
   ]
  },
  {
   "cell_type": "code",
   "execution_count": 16,
   "metadata": {},
   "outputs": [],
   "source": [
    "# Export predicted data to ./data/submission.csv\n",
    "df['2019-06-23':][['sku', 'prediction']].to_csv('./data/submission.csv')"
   ]
  },
  {
   "cell_type": "code",
   "execution_count": null,
   "metadata": {},
   "outputs": [],
   "source": []
  }
 ],
 "metadata": {
  "kernelspec": {
   "display_name": "Python 3",
   "language": "python",
   "name": "python3"
  },
  "language_info": {
   "codemirror_mode": {
    "name": "ipython",
    "version": 3
   },
   "file_extension": ".py",
   "mimetype": "text/x-python",
   "name": "python",
   "nbconvert_exporter": "python",
   "pygments_lexer": "ipython3",
   "version": "3.7.7"
  }
 },
 "nbformat": 4,
 "nbformat_minor": 4
}
